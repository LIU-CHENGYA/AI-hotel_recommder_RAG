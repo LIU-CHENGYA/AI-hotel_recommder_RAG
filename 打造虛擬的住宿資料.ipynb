{
  "nbformat": 4,
  "nbformat_minor": 0,
  "metadata": {
    "colab": {
      "provenance": [],
      "authorship_tag": "ABX9TyM3Loda5zA3UL5DazHEtPWX",
      "include_colab_link": true
    },
    "kernelspec": {
      "name": "python3",
      "display_name": "Python 3"
    },
    "language_info": {
      "name": "python"
    }
  },
  "cells": [
    {
      "cell_type": "markdown",
      "metadata": {
        "id": "view-in-github",
        "colab_type": "text"
      },
      "source": [
        "<a href=\"https://colab.research.google.com/github/LIU-CHENGYA/AI-hotel_recommder_RAG/blob/main/%E6%89%93%E9%80%A0%E8%99%9B%E6%93%AC%E7%9A%84%E4%BD%8F%E5%AE%BF%E8%B3%87%E6%96%99.ipynb\" target=\"_parent\"><img src=\"https://colab.research.google.com/assets/colab-badge.svg\" alt=\"Open In Colab\"/></a>"
      ]
    },
    {
      "cell_type": "code",
      "execution_count": null,
      "metadata": {
        "colab": {
          "base_uri": "https://localhost:8080/"
        },
        "id": "SAz5dcDMogoD",
        "outputId": "9c6da951-04d5-4d8c-9ae5-c6e84a3812a8"
      },
      "outputs": [
        {
          "output_type": "stream",
          "name": "stdout",
          "text": [
            "✅ 檔案已儲存為：虛構台灣民宿資料.xlsx\n"
          ]
        }
      ],
      "source": [
        "import pandas as pd\n",
        "import random\n",
        "\n",
        "# 範本資料\n",
        "cities = [\"台北市\", \"新北市\", \"基隆市\", \"桃園市\", \"新竹市\", \"台中市\", \"彰化縣\", \"南投縣\", \"嘉義市\", \"台南市\", \"高雄市\", \"屏東縣\", \"宜蘭縣\", \"花蓮縣\", \"台東縣\", \"澎湖縣\"]\n",
        "themes = [\"日式風格\", \"歐式風情\", \"田園風光\", \"海景第一排\", \"森林系\", \"工業風\", \"復古懷舊\", \"極簡主義\", \"藝術創作\", \"親子友善\",\"寵物友善\",\"禁菸\"]\n",
        "attractions = [\"老街\", \"夜市\", \"溫泉\", \"古蹟\", \"登山步道\", \"觀光農場\", \"博物館\", \"海水浴場\", \"湖泊\", \"文化園區\"]\n",
        "\n",
        "# 民宿名稱產生器\n",
        "def generate_homestay_name():\n",
        "    prefix = [\"幸福\", \"微風\", \"月光\", \"藍天\", \"森林\", \"海岸\", \"山嵐\", \"晴空\", \"雲端\", \"綠意\",\"湖畔\",\"悠閒\",\"清淨\",\"漫步\",\"星際\",\"晴天\",\"夢境\"]\n",
        "    suffix = [\"小築\", \"居\", \"旅店\", \"莊園\", \"會館\", \"民宿\", \"Villa\", \"小屋\", \"棧\", \"秘境\",\"小木屋\",\"玻璃球\"]\n",
        "    return random.choice(prefix) + random.choice(suffix)\n",
        "\n",
        "# 生成虛構資料\n",
        "def generate_fake_homestay_data(n=400):\n",
        "    data = []\n",
        "    for _ in range(n):\n",
        "        name = generate_homestay_name()\n",
        "        city = random.choice(cities)\n",
        "        theme = random.choice(themes)\n",
        "        price = f\"NT${random.randint(1880, 6500)}\"\n",
        "        nearby = f\"{city}{random.choice(attractions)}\"\n",
        "        data.append({\n",
        "            \"民宿名稱\": name,\n",
        "            \"縣市\": city,\n",
        "            \"特色\": theme,\n",
        "            \"價格\": price,\n",
        "            \"附近景點\": nearby\n",
        "        })\n",
        "    return pd.DataFrame(data)\n",
        "\n",
        "# 建立資料並匯出為 Excel\n",
        "df = generate_fake_homestay_data(400)\n",
        "df.to_excel(\"虛構台灣民宿資料.xlsx\", index=False)\n",
        "print(\"✅ 檔案已儲存為：虛構台灣民宿資料.xlsx\")\n"
      ]
    }
  ]
}